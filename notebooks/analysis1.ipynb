{
 "cells": [
  {
   "cell_type": "markdown",
   "metadata": {},
   "source": [
    "# Tariq Al Otaibi"
   ]
  },
  {
   "cell_type": "markdown",
   "metadata": {},
   "source": [
    "## concentration of gases across the day\n",
    "\n",
    "the average concentration of gases per hour on daily basis"
   ]
  },
  {
   "cell_type": "code",
   "execution_count": 13,
   "metadata": {},
   "outputs": [],
   "source": [
    "import pandas as pd\n",
    "import numpy as np\n",
    "import matplotlib.pyplot as plt\n",
    "from project_functions import load_and_process_data, getAverageConcentration"
   ]
  },
  {
   "cell_type": "code",
   "execution_count": 14,
   "metadata": {},
   "outputs": [
    {
     "data": {
      "text/plain": [
       "Date                  object\n",
       "Time                  object\n",
       "CO(GT)               float64\n",
       "PT08.S1(CO)          float64\n",
       "NMHC(GT)             float64\n",
       "C6H6(GT)             float64\n",
       "PT08.S2(NMHC)        float64\n",
       "NOx(GT)              float64\n",
       "PT08.S3(NOx)         float64\n",
       "NO2(GT)              float64\n",
       "PT08.S4(NO2)         float64\n",
       "PT08.S5(O3)          float64\n",
       "Temp                 float64\n",
       "Relative Humidity    float64\n",
       "Absolute Humdity     float64\n",
       "dtype: object"
      ]
     },
     "execution_count": 14,
     "metadata": {},
     "output_type": "execute_result"
    }
   ],
   "source": [
    "rawData = load_and_process_data(\"../data/raw/AirQualityUCI.csv\")\n",
    "\n",
    "rawData"
   ]
  },
  {
   "cell_type": "code",
   "execution_count": 26,
   "metadata": {},
   "outputs": [
    {
     "name": "stdout",
     "output_type": "stream",
     "text": [
      "<class 'numpy.float64'>\n"
     ]
    },
    {
     "data": {
      "image/png": "[encoded data removed]",
      "text/plain": [
       "<Figure size 432x288 with 1 Axes>"
      ]
     },
     "metadata": {
      "needs_background": "light"
     },
     "output_type": "display_data"
    }
   ],
   "source": [
    "# let's calculates the average of CO(GT) as a sample\n",
    "x = np.arange(24)\n",
    "y = getAverageConcentration(rawData, \"CO(GT)\")\n",
    "plt.plot(x, y)\n",
    "plt.show()"
   ]
  },
  {
   "cell_type": "code",
   "execution_count": null,
   "metadata": {},
   "outputs": [],
   "source": []
  }
 ],
 "metadata": {
  "kernelspec": {
   "display_name": "Python 3 (ipykernel)",
   "language": "python",
   "name": "python3"
  },
  "language_info": {
   "codemirror_mode": {
    "name": "ipython",
    "version": 3
   },
   "file_extension": ".py",
   "mimetype": "text/x-python",
   "name": "python",
   "nbconvert_exporter": "python",
   "pygments_lexer": "ipython3",
   "version": "3.8.8"
  }
 },
 "nbformat": 4,
 "nbformat_minor": 2
}
